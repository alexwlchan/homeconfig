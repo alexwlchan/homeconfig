{
 "cells": [
  {
   "cell_type": "markdown",
   "metadata": {},
   "source": [
    "Using the Catalogopolis API (<https://api.catalogopolis.xyz/docs/restapi/>) to work out which Doctor Who stories (aside from *The Deadly Assassin*) featured an all-male cast.\n",
    "\n",
    "<https://twitter.com/pwaring/status/1155888101123940354>"
   ]
  },
  {
   "cell_type": "code",
   "execution_count": 1,
   "metadata": {},
   "outputs": [],
   "source": [
    "import requests\n",
    "\n",
    "sess = requests.Session()\n",
    "\n",
    "# http://localhost:8888/notebooks/doctor_who_companions.ipynb\n",
    "\n",
    "def check_for_error(resp, *args, **kwargs):\n",
    "    resp.raise_for_status()\n",
    "    \n",
    "sess.hooks[\"response\"].append(check_for_error)"
   ]
  },
  {
   "cell_type": "code",
   "execution_count": 2,
   "metadata": {},
   "outputs": [],
   "source": [
    "serials = sess.get(\"https://api.catalogopolis.xyz/v1/serials\").json()"
   ]
  },
  {
   "cell_type": "code",
   "execution_count": 6,
   "metadata": {},
   "outputs": [
    {
     "name": "stderr",
     "output_type": "stream",
     "text": [
      "100%|██████████| 306/306 [06:48<00:00,  1.23it/s]\n"
     ]
    }
   ],
   "source": [
    "import tqdm\n",
    "\n",
    "companions_by_serial = {}\n",
    "\n",
    "for serial_blob in tqdm.tqdm(serials):\n",
    "    serial_id = serial_blob[\"id\"]\n",
    "\n",
    "    companions = requests.get(\n",
    "        f\"https://api.catalogopolis.xyz/v1/serials/{serial_id}/companions/\").json()\n",
    "    \n",
    "    companions_by_serial[serial_id] = {\n",
    "        \"serial\": serial_blob,\n",
    "        \"companions\": companions\n",
    "    }"
   ]
  },
  {
   "cell_type": "code",
   "execution_count": 46,
   "metadata": {},
   "outputs": [
    {
     "data": {
      "text/plain": [
       "['Mission to the Unknown',\n",
       " \"The Massacre of St. Bartholomew's Eve\",\n",
       " 'The Wheel in Space',\n",
       " 'The Deadly Assassin',\n",
       " 'The Pirate Planet',\n",
       " 'Shada',\n",
       " 'The Keeper of Traken',\n",
       " 'The Mysterious Planet',\n",
       " 'Mindwarp',\n",
       " 'Terror of the Vervoids',\n",
       " 'The Ultimate Foe',\n",
       " 'Voyage of the Damned',\n",
       " 'Midnight',\n",
       " 'Turn Left',\n",
       " 'The Next Doctor',\n",
       " 'Planet of the Dead',\n",
       " 'The Waters of Mars',\n",
       " 'The End of Time part 1',\n",
       " 'The End of Time part 2',\n",
       " 'Closing Time',\n",
       " 'The Doctor, the Widow and the Wardrobe',\n",
       " 'The Woman Who Lived',\n",
       " 'The Zygon Invasion',\n",
       " 'Heaven Sent',\n",
       " 'The Return of Doctor Mysterio',\n",
       " 'Dr. Who and the Daleks',\n",
       " 'Daleks -- Invasion Earth: 2150 A.D.',\n",
       " 'Twice Upon a Time']"
      ]
     },
     "execution_count": 46,
     "metadata": {},
     "output_type": "execute_result"
    }
   ],
   "source": [
    "female_companions = {\n",
    "    \"Susan Foreman\",\n",
    "    \"Barbara Wright\",\n",
    "    \"Vicki Pallister\",\n",
    "    \"Amy Pond\",\n",
    "    \"Bill Potts\",\n",
    "    \"Clara Oswald\",\n",
    "    \"Rose Tyler\",\n",
    "    \"Martha Jones\",\n",
    "    \"Donna Noble\",\n",
    "    \"River Song\",\n",
    "    \"Tegan Jovanka\",\n",
    "    \"Grace Holloway\",\n",
    "    'Dorothy Gale \"Ace\" McShane',\n",
    "    \"Jo Grant\",\n",
    "    \"Sarah Jane Smith\",\n",
    "    \"Sara Kingdom\",\n",
    "    \"Dodo Chaplet\",\n",
    "    \"Polly Wright\",\n",
    "    \"Romana I\",\n",
    "    \"Romana II\",\n",
    "    \"Victoria Waterfield\",\n",
    "    \"Zoe Heriot\",\n",
    "    'Perpugilliam \"Peri\" Brown',\n",
    "    \"Liz Shaw\",\n",
    "    \"Leela\",\n",
    "    \"Melanie Bush\",\n",
    "    \"Nyssa of Traken\"\n",
    "}\n",
    "\n",
    "possible_male_only = []\n",
    "\n",
    "for serial_blob in companions_by_serial.values():\n",
    "    serial_title = serial_blob[\"serial\"][\"title\"]\n",
    "    \n",
    "    serial_actors = {\n",
    "        companion[\"name\"] for companion in serial_blob[\"companions\"]\n",
    "    }\n",
    "    \n",
    "    if serial_actors & female_companions:\n",
    "        continue\n",
    "    \n",
    "    possible_male_only.append(serial_title)\n",
    "\n",
    "possible_male_only"
   ]
  },
  {
   "cell_type": "code",
   "execution_count": 56,
   "metadata": {},
   "outputs": [
    {
     "data": {
      "text/plain": [
       "['Mission to the Unknown',\n",
       " \"The Massacre of St. Bartholomew's Eve\",\n",
       " 'The Deadly Assassin',\n",
       " 'Heaven Sent']"
      ]
     },
     "execution_count": 56,
     "metadata": {},
     "output_type": "execute_result"
    }
   ],
   "source": [
    "def _remove(s):\n",
    "    try:\n",
    "        possible_male_only.remove(s)\n",
    "    except ValueError:\n",
    "        pass\n",
    "\n",
    "# Features Zoe Heriot\n",
    "_remove(\"The Wheel in Space\")\n",
    "\n",
    "# Features Romana\n",
    "_remove(\"The Pirate Planet\")\n",
    "_remove(\"Shada\")\n",
    "\n",
    "# Features Nyssa\n",
    "_remove(\"The Keeper of Traken\")\n",
    "\n",
    "# Features Kylie\n",
    "_remove(\"Voyage of the Damned\")\n",
    "\n",
    "# Features Donna Noble\n",
    "_remove(\"Midnight\")\n",
    "_remove(\"Turn Left\")\n",
    "_remove(\"The End of Time part 1\")\n",
    "_remove(\"The End of Time part 2\")\n",
    "\n",
    "# I can't remember her name -- the actress from Outnumbered\n",
    "_remove(\"The Doctor, the Widow and the Wardrobe\")\n",
    "\n",
    "# The woman in charge of the Mars base, Adelaide Brooke\n",
    "_remove(\"The Waters of Mars\")\n",
    "\n",
    "# Amy Pond\n",
    "_remove(\"Closing Time\")\n",
    "_remove(\"The Woman Who Lived\")\n",
    "\n",
    "# Clara Oswald\n",
    "_remove(\"The Zygon Invasion\")\n",
    "\n",
    "# Mel Bush\n",
    "_remove(\"Terror of the Vervoids\")\n",
    "_remove(\"The Ultimate Foe\")\n",
    "\n",
    "# Peri Brown\n",
    "_remove(\"The Mysterious Planet\")\n",
    "_remove(\"Mindwarp\")\n",
    "\n",
    "# Lady Christina\n",
    "_remove(\"Planet of the Dead\")\n",
    "\n",
    "# Lucy Fletcher\n",
    "_remove(\"The Return of Doctor Mysterio\")\n",
    "\n",
    "# Bill Potts\n",
    "_remove(\"Twice Upon a Time\")\n",
    "\n",
    "# Rosita\n",
    "_remove(\"The Next Doctor\")\n",
    "\n",
    "# Barbara and Susan\n",
    "_remove(\"Dr. Who and the Daleks\")\n",
    "_remove(\"Daleks -- Invasion Earth: 2150 A.D.\")\n",
    "\n",
    "possible_male_only"
   ]
  },
  {
   "cell_type": "code",
   "execution_count": null,
   "metadata": {},
   "outputs": [],
   "source": []
  }
 ],
 "metadata": {
  "kernelspec": {
   "display_name": "Python 3",
   "language": "python",
   "name": "python3"
  },
  "language_info": {
   "codemirror_mode": {
    "name": "ipython",
    "version": 3
   },
   "file_extension": ".py",
   "mimetype": "text/x-python",
   "name": "python",
   "nbconvert_exporter": "python",
   "pygments_lexer": "ipython3",
   "version": "3.6.4"
  }
 },
 "nbformat": 4,
 "nbformat_minor": 2
}
